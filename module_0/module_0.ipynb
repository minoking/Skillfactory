{
 "cells": [
  {
   "cell_type": "code",
   "execution_count": 19,
   "metadata": {},
   "outputs": [
    {
     "name": "stdout",
     "output_type": "stream",
     "text": [
      "Ваш алгоритм угадывает число в среднем за 5 попыток\n",
      "Минимально потребовалось 1 попыток\n",
      "Максимально потребовалось 7 попыток\n",
      "Попытки распределились следующим образом:\n",
      "Угадано за 1 попытк(-у/-и/-ок) : 9 раз\n",
      "Угадано за 2 попытк(-у/-и/-ок) : 18 раз\n",
      "Угадано за 3 попытк(-у/-и/-ок) : 39 раз\n",
      "Угадано за 4 попытк(-у/-и/-ок) : 79 раз\n",
      "Угадано за 5 попытк(-у/-и/-ок) : 161 раз\n",
      "Угадано за 6 попытк(-у/-и/-ок) : 326 раз\n",
      "Угадано за 7 попытк(-у/-и/-ок) : 368 раз\n"
     ]
    },
    {
     "data": {
      "text/plain": [
       "5"
      ]
     },
     "execution_count": 19,
     "metadata": {},
     "output_type": "execute_result"
    }
   ],
   "source": [
    "import numpy as np\n",
    "\n",
    "def game_core_v3(number):\n",
    "    \"\"\"Задаём границы в которых требуется угадать число, делаем минимальную границу на 1 меньше, максимальную на 1 больше\n",
    "       в качестве точки отсчёт выбираем середину полученного отрезка, в дальнейшем в зависимости от того больше или меньше\n",
    "       число предполагаемое нами как угадываемое - сдвигаем минимальную(если загаданное число больше) или максимальную(если\n",
    "       загаданное число меньше) границу отрезка\"\"\"\n",
    "    count = 1\n",
    "    min = 0\n",
    "    max = 101\n",
    "    predict = round((max-min)/2)+min\n",
    "    while number != predict:\n",
    "        count+=1\n",
    "        if number > predict: \n",
    "            min = predict\n",
    "        elif number < predict: \n",
    "            max = predict\n",
    "        predict = round((max-min)/2)+min\n",
    "    return(count) # выход из цикла, если угадали\n",
    "        \n",
    "        \n",
    "def score_game(game_core):\n",
    "    min = 0\n",
    "    max = 0\n",
    "    '''Запускаем игру 1000 раз, чтобы узнать, как быстро игра угадывает число'''\n",
    "    count_ls = []\n",
    "    np.random.seed(1)  # фиксируем RANDOM SEED, чтобы ваш эксперимент был воспроизводим!\n",
    "    random_array = np.random.randint(1,101, size=(1000))\n",
    "    counter=0\n",
    "    distribution={}\n",
    "    \n",
    "    for number in random_array:\n",
    "        count_ls.append(game_core(number))\n",
    "    #Анализируем минимальное и максимальное количество попыток\n",
    "        if min > count_ls[counter] or min == 0:\n",
    "            min = count_ls[counter]\n",
    "        if max < count_ls[counter]:\n",
    "            max = count_ls[counter]\n",
    "    #Собираем статистику по количеству попыток потребовавшихся для угадывания\n",
    "        if count_ls[counter] in distribution:\n",
    "            distribution[count_ls[counter]] += 1\n",
    "        else:\n",
    "            distribution[count_ls[counter]] = 1\n",
    "        counter += 1\n",
    "\n",
    "    score = int(np.mean(count_ls))\n",
    "    print(f\"Ваш алгоритм угадывает число в среднем за {score} попыток\")\n",
    "    print(f\"Минимально потребовалось {min} попыток\")\n",
    "    print(f\"Максимально потребовалось {max} попыток\")\n",
    "    print('Попытки распределились следующим образом:')\n",
    "    #Выводим статистику отсортировав по возрастанию\n",
    "    for i in range(min, max+1):\n",
    "        print('Угадано за',i,'попыт(-ку/-ки/-ок) :',distribution[i],'раз')\n",
    "        \n",
    "    return(score)\n",
    "\n",
    "score_game(game_core_v3)"
   ]
  },
  {
   "cell_type": "code",
   "execution_count": null,
   "metadata": {},
   "outputs": [],
   "source": []
  }
 ],
 "metadata": {
  "kernelspec": {
   "display_name": "Python 3",
   "language": "python",
   "name": "python3"
  },
  "language_info": {
   "codemirror_mode": {
    "name": "ipython",
    "version": 3
   },
   "file_extension": ".py",
   "mimetype": "text/x-python",
   "name": "python",
   "nbconvert_exporter": "python",
   "pygments_lexer": "ipython3",
   "version": "3.8.3"
  }
 },
 "nbformat": 4,
 "nbformat_minor": 4
}
